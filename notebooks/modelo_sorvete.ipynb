{
 "cells": [
  {
   "cell_type": "markdown",
   "id": "846e67ec",
   "metadata": {},
   "source": [
    "# Previsão de Vendas de Sorvete com Machine Learning"
   ]
  },
  {
   "cell_type": "code",
   "execution_count": null,
   "id": "dfe14265",
   "metadata": {},
   "outputs": [],
   "source": [
    "\n",
    "import pandas as pd\n",
    "import matplotlib.pyplot as plt\n",
    "import seaborn as sns\n",
    "from sklearn.linear_model import LinearRegression\n",
    "from sklearn.model_selection import train_test_split\n",
    "from sklearn.metrics import mean_squared_error, r2_score\n",
    "import mlflow\n",
    "import mlflow.sklearn\n",
    "\n",
    "# Carregar dados\n",
    "df = pd.read_csv('../inputs/dados_vendas.csv')\n",
    "print(df.head())\n",
    "\n",
    "# Visualização\n",
    "sns.scatterplot(x='temperatura', y='vendas', data=df)\n",
    "plt.title('Temperatura vs Vendas de Sorvete')\n",
    "plt.show()\n"
   ]
  },
  {
   "cell_type": "code",
   "execution_count": null,
   "id": "9ac33d03",
   "metadata": {},
   "outputs": [],
   "source": [
    "\n",
    "# Separar dados\n",
    "X = df[['temperatura']]\n",
    "y = df['vendas']\n",
    "\n",
    "X_train, X_test, y_train, y_test = train_test_split(X, y, test_size=0.2, random_state=42)\n",
    "\n",
    "# Treinar modelo\n",
    "model = LinearRegression()\n",
    "model.fit(X_train, y_train)\n",
    "\n",
    "# Avaliar\n",
    "y_pred = model.predict(X_test)\n",
    "print(f'R²: {r2_score(y_test, y_pred):.2f}')\n",
    "print(f'RMSE: {mean_squared_error(y_test, y_pred, squared=False):.2f}')\n"
   ]
  },
  {
   "cell_type": "code",
   "execution_count": null,
   "id": "e3af3a30",
   "metadata": {},
   "outputs": [],
   "source": [
    "\n",
    "# Registrar com MLflow\n",
    "with mlflow.start_run():\n",
    "    mlflow.log_param(\"model_type\", \"LinearRegression\")\n",
    "    mlflow.log_metric(\"r2_score\", r2_score(y_test, y_pred))\n",
    "    mlflow.log_metric(\"rmse\", mean_squared_error(y_test, y_pred, squared=False))\n",
    "    mlflow.sklearn.log_model(model, \"modelo_sorvete\")\n"
   ]
  }
 ],
 "metadata": {},
 "nbformat": 4,
 "nbformat_minor": 5
}